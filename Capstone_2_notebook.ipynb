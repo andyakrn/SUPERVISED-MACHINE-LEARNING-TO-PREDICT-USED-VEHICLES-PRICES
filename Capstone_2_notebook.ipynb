{
 "cells": [
  {
   "cell_type": "markdown",
   "metadata": {},
   "source": [
    "## Supervised machine learning to predict used vehicles prices\n",
    "#### Using data from craigslist.org\n",
    "\n",
    "For this Capnstone project I'm using Used Cars Dataset from kaggle https://www.kaggle.com/austinreese/craigslist-carstrucks-data. Dataset contains ~500K records  about used cars and their prices collected from craigslist\n",
    "The goal of this project is build a model using supervised machine learning algorithms to predict prices of used vehicles.\n"
   ]
  },
  {
   "cell_type": "code",
   "execution_count": 273,
   "metadata": {},
   "outputs": [],
   "source": [
    "#importing necessary modules\n",
    "\n",
    "import pandas as pd\n",
    "import numpy as np\n",
    "\n",
    "import matplotlib.pyplot as plt\n",
    "import matplotlib\n",
    "import seaborn as sns\n",
    "sns.set()\n",
    "from wordcloud import WordCloud\n",
    "\n",
    "from sklearn.dummy import DummyRegressor\n",
    "from sklearn.model_selection import train_test_split, GridSearchCV\n",
    "from sklearn.ensemble import GradientBoostingRegressor, RandomForestRegressor\n",
    "from sklearn.linear_model import Ridge, Lasso,  ElasticNet \n",
    "from sklearn.svm import SVR\n",
    "from sklearn.metrics import mean_absolute_error\n",
    "from xgboost import XGBRegressor\n",
    "\n",
    "from scipy.stats import jarque_bera\n",
    "from scipy.stats import normaltest\n",
    "\n",
    "import warnings\n",
    "warnings.filterwarnings(action=\"ignore\")\n",
    "import time\n",
    "\n",
    "import math\n",
    "from sklearn.preprocessing import StandardScaler\n",
    "from sklearn.decomposition import PCA"
   ]
  },
  {
   "cell_type": "code",
   "execution_count": 6,
   "metadata": {},
   "outputs": [
    {
     "name": "stdout",
     "output_type": "stream",
     "text": [
      "(550313, 22)\n"
     ]
    },
    {
     "data": {
      "text/html": [
       "<div>\n",
       "<style scoped>\n",
       "    .dataframe tbody tr th:only-of-type {\n",
       "        vertical-align: middle;\n",
       "    }\n",
       "\n",
       "    .dataframe tbody tr th {\n",
       "        vertical-align: top;\n",
       "    }\n",
       "\n",
       "    .dataframe thead th {\n",
       "        text-align: right;\n",
       "    }\n",
       "</style>\n",
       "<table border=\"1\" class=\"dataframe\">\n",
       "  <thead>\n",
       "    <tr style=\"text-align: right;\">\n",
       "      <th></th>\n",
       "      <th>url</th>\n",
       "      <th>city</th>\n",
       "      <th>city_url</th>\n",
       "      <th>price</th>\n",
       "      <th>year</th>\n",
       "      <th>manufacturer</th>\n",
       "      <th>make</th>\n",
       "      <th>condition</th>\n",
       "      <th>cylinders</th>\n",
       "      <th>fuel</th>\n",
       "      <th>...</th>\n",
       "      <th>transmission</th>\n",
       "      <th>VIN</th>\n",
       "      <th>drive</th>\n",
       "      <th>size</th>\n",
       "      <th>type</th>\n",
       "      <th>paint_color</th>\n",
       "      <th>image_url</th>\n",
       "      <th>desc</th>\n",
       "      <th>lat</th>\n",
       "      <th>long</th>\n",
       "    </tr>\n",
       "  </thead>\n",
       "  <tbody>\n",
       "    <tr>\n",
       "      <th>0</th>\n",
       "      <td>https://abilene.craigslist.org/cto/d/aspermont...</td>\n",
       "      <td>abilene, TX</td>\n",
       "      <td>https://abilene.craigslist.org</td>\n",
       "      <td>9000</td>\n",
       "      <td>2009.0</td>\n",
       "      <td>chevrolet</td>\n",
       "      <td>suburban lt2</td>\n",
       "      <td>good</td>\n",
       "      <td>8 cylinders</td>\n",
       "      <td>gas</td>\n",
       "      <td>...</td>\n",
       "      <td>automatic</td>\n",
       "      <td>1GFNC26099R211276</td>\n",
       "      <td>rwd</td>\n",
       "      <td>full-size</td>\n",
       "      <td>SUV</td>\n",
       "      <td>white</td>\n",
       "      <td>https://images.craigslist.org/00909_5P6f1E6zHl...</td>\n",
       "      <td>2WD 1/2 ton\\nLeather Captains Chairs\\nIn good ...</td>\n",
       "      <td>33.130100</td>\n",
       "      <td>-100.234400</td>\n",
       "    </tr>\n",
       "    <tr>\n",
       "      <th>1</th>\n",
       "      <td>https://abilene.craigslist.org/ctd/d/liberty-h...</td>\n",
       "      <td>abilene, TX</td>\n",
       "      <td>https://abilene.craigslist.org</td>\n",
       "      <td>31999</td>\n",
       "      <td>2012.0</td>\n",
       "      <td>ram</td>\n",
       "      <td>2500</td>\n",
       "      <td>NaN</td>\n",
       "      <td>NaN</td>\n",
       "      <td>diesel</td>\n",
       "      <td>...</td>\n",
       "      <td>automatic</td>\n",
       "      <td>NaN</td>\n",
       "      <td>NaN</td>\n",
       "      <td>NaN</td>\n",
       "      <td>NaN</td>\n",
       "      <td>NaN</td>\n",
       "      <td>https://images.craigslist.org/00u0u_24XW8uhLYP...</td>\n",
       "      <td>www.GETADIESEL.com\\n2012 RAM 2500 SLT 4X4 MEGA...</td>\n",
       "      <td>30.648368</td>\n",
       "      <td>-97.862949</td>\n",
       "    </tr>\n",
       "    <tr>\n",
       "      <th>2</th>\n",
       "      <td>https://abilene.craigslist.org/ctd/d/liberty-h...</td>\n",
       "      <td>abilene, TX</td>\n",
       "      <td>https://abilene.craigslist.org</td>\n",
       "      <td>16990</td>\n",
       "      <td>2003.0</td>\n",
       "      <td>ram</td>\n",
       "      <td>3500</td>\n",
       "      <td>NaN</td>\n",
       "      <td>NaN</td>\n",
       "      <td>diesel</td>\n",
       "      <td>...</td>\n",
       "      <td>manual</td>\n",
       "      <td>NaN</td>\n",
       "      <td>NaN</td>\n",
       "      <td>NaN</td>\n",
       "      <td>NaN</td>\n",
       "      <td>NaN</td>\n",
       "      <td>https://images.craigslist.org/00l0l_H1UKTJ4sTI...</td>\n",
       "      <td>www.GETADIESEL.com\\n2003 DODGE RAM 3500 LARAMI...</td>\n",
       "      <td>30.648516</td>\n",
       "      <td>-97.862434</td>\n",
       "    </tr>\n",
       "  </tbody>\n",
       "</table>\n",
       "<p>3 rows × 22 columns</p>\n",
       "</div>"
      ],
      "text/plain": [
       "                                                 url         city  \\\n",
       "0  https://abilene.craigslist.org/cto/d/aspermont...  abilene, TX   \n",
       "1  https://abilene.craigslist.org/ctd/d/liberty-h...  abilene, TX   \n",
       "2  https://abilene.craigslist.org/ctd/d/liberty-h...  abilene, TX   \n",
       "\n",
       "                         city_url  price    year manufacturer          make  \\\n",
       "0  https://abilene.craigslist.org   9000  2009.0    chevrolet  suburban lt2   \n",
       "1  https://abilene.craigslist.org  31999  2012.0          ram          2500   \n",
       "2  https://abilene.craigslist.org  16990  2003.0          ram          3500   \n",
       "\n",
       "  condition    cylinders    fuel  ...  transmission                VIN drive  \\\n",
       "0      good  8 cylinders     gas  ...     automatic  1GFNC26099R211276   rwd   \n",
       "1       NaN          NaN  diesel  ...     automatic                NaN   NaN   \n",
       "2       NaN          NaN  diesel  ...        manual                NaN   NaN   \n",
       "\n",
       "        size type paint_color  \\\n",
       "0  full-size  SUV       white   \n",
       "1        NaN  NaN         NaN   \n",
       "2        NaN  NaN         NaN   \n",
       "\n",
       "                                           image_url  \\\n",
       "0  https://images.craigslist.org/00909_5P6f1E6zHl...   \n",
       "1  https://images.craigslist.org/00u0u_24XW8uhLYP...   \n",
       "2  https://images.craigslist.org/00l0l_H1UKTJ4sTI...   \n",
       "\n",
       "                                                desc        lat        long  \n",
       "0  2WD 1/2 ton\\nLeather Captains Chairs\\nIn good ...  33.130100 -100.234400  \n",
       "1  www.GETADIESEL.com\\n2012 RAM 2500 SLT 4X4 MEGA...  30.648368  -97.862949  \n",
       "2  www.GETADIESEL.com\\n2003 DODGE RAM 3500 LARAMI...  30.648516  -97.862434  \n",
       "\n",
       "[3 rows x 22 columns]"
      ]
     },
     "execution_count": 6,
     "metadata": {},
     "output_type": "execute_result"
    }
   ],
   "source": [
    "df_raw_data=pd.read_csv('craigslist-carstrucks-data.zip', compression='zip')\n",
    "print(df_raw_data.shape)\n",
    "df_raw_data.head(3)\n"
   ]
  },
  {
   "cell_type": "code",
   "execution_count": 7,
   "metadata": {},
   "outputs": [
    {
     "data": {
      "text/plain": [
       "Index(['url', 'city', 'city_url', 'price', 'year', 'manufacturer', 'make',\n",
       "       'condition', 'cylinders', 'fuel', 'odometer', 'title_status',\n",
       "       'transmission', 'VIN', 'drive', 'size', 'type', 'paint_color',\n",
       "       'image_url', 'desc', 'lat', 'long'],\n",
       "      dtype='object')"
      ]
     },
     "execution_count": 7,
     "metadata": {},
     "output_type": "execute_result"
    }
   ],
   "source": [
    "df_raw_data.columns"
   ]
  },
  {
   "cell_type": "markdown",
   "metadata": {},
   "source": [
    "## Data exploration and cleaning \n",
    "\n",
    "Dataset contain 550313 rows and 22 columns. First let's drop columns, which don't contain useful information for the model. Columns 'url', 'city_url' and 'image_url' contain post and image url  and unique for each record. 'VIN' column contains vehicle identification number is unique for every vehicle. 'desc' description of each post. Dataset also contains 'city' column together coordinates  of the location ('lat' and 'long'), that information is extra and unnecessary, so we drop 'city' column."
   ]
  },
  {
   "cell_type": "code",
   "execution_count": 47,
   "metadata": {},
   "outputs": [
    {
     "data": {
      "text/plain": [
       "price                0\n",
       "year              1487\n",
       "manufacturer     26915\n",
       "make              9677\n",
       "condition       250074\n",
       "cylinders       218997\n",
       "fuel              4741\n",
       "odometer        110800\n",
       "title_status      4024\n",
       "transmission      4055\n",
       "drive           165838\n",
       "size            366256\n",
       "type            159179\n",
       "paint_color     180021\n",
       "lat              11790\n",
       "long             11790\n",
       "dtype: int64"
      ]
     },
     "execution_count": 47,
     "metadata": {},
     "output_type": "execute_result"
    }
   ],
   "source": [
    "df_useful_columns = df_raw_data.drop(['url','city','city_url','VIN',\n",
    "                                     'image_url','desc'],axis=1)\n",
    "df_useful_columns.isna().sum()"
   ]
  },
  {
   "cell_type": "markdown",
   "metadata": {},
   "source": [
    "Checking resulting dataframe for nulls we can see that target variable 'price' does not contain any nulls, which is good. But if we look close we can see a lot of records where price is 0. We need to drop that records because are not useful for the model"
   ]
  },
  {
   "cell_type": "code",
   "execution_count": 48,
   "metadata": {},
   "outputs": [],
   "source": [
    "df_useful_columns=df_useful_columns[df_useful_columns['price']!=0];"
   ]
  },
  {
   "cell_type": "markdown",
   "metadata": {},
   "source": [
    "Other columns have many nulls. Before dropping nulls let see if can fill some null values.  For some columns not numerical columns we can substitute null with 'unknown'. "
   ]
  },
  {
   "cell_type": "code",
   "execution_count": 49,
   "metadata": {},
   "outputs": [],
   "source": [
    "df_useful_columns['paint_color'].fillna('unknow',inplace=True)\n",
    "df_useful_columns['condition'].fillna('unknow', inplace=True)\n",
    "df_useful_columns['type'].fillna('unknow', inplace=True)"
   ]
  },
  {
   "cell_type": "code",
   "execution_count": 54,
   "metadata": {},
   "outputs": [],
   "source": [
    "df_cars_nonulls=df_useful_columns.dropna()"
   ]
  },
  {
   "cell_type": "markdown",
   "metadata": {},
   "source": [
    "### Feature engineering \n",
    "\n",
    "Dataset has two columns 'manufacture' which is vehicle brand and 'make' model of the vehicle. This two columns can be combined in one 'make_model' two avoid uncertainty if several brans use same model name. To reduce number of unique spelling of the model we need drop remove spaces,  - , and . from model name. "
   ]
  },
  {
   "cell_type": "code",
   "execution_count": 70,
   "metadata": {},
   "outputs": [],
   "source": [
    "df_cars_nonulls['make']=df_cars_nonulls['make'].str.replace('-','')\n",
    "df_cars_nonulls['make']=df_cars_nonulls['make'].str.replace(' ','')\n",
    "df_cars_nonulls['make']=df_cars_nonulls['make'].str.replace('/','')\n",
    "df_cars_nonulls['make']=df_cars_nonulls['make'].str.replace('.','')\n",
    "df_cars_nonulls['make']=df_cars_nonulls['make'].str.replace(',','')\n",
    "df_cars_nonulls['make_model'] = df_cars_nonulls['manufacturer']+'_'+df_cars_nonulls['make']"
   ]
  },
  {
   "cell_type": "code",
   "execution_count": 71,
   "metadata": {},
   "outputs": [
    {
     "data": {
      "image/png": "[encoded data removed]",
      "text/plain": [
       "<Figure size 432x288 with 1 Axes>"
      ]
     },
     "metadata": {
      "needs_background": "light"
     },
     "output_type": "display_data"
    },
    {
     "data": {
      "text/plain": [
       "<matplotlib.axes._subplots.AxesSubplot at 0x2130eaac048>"
      ]
     },
     "execution_count": 71,
     "metadata": {},
     "output_type": "execute_result"
    },
    {
     "data": {
      "image/png": "[encoded data removed]",
      "text/plain": [
       "<Figure size 432x288 with 1 Axes>"
      ]
     },
     "metadata": {
      "needs_background": "light"
     },
     "output_type": "display_data"
    }
   ],
   "source": [
    "df_cars_nonulls['price'].hist()\n",
    "plt.show()\n",
    "df_cars_nonulls['odometer'].hist()"
   ]
  },
  {
   "cell_type": "markdown",
   "metadata": {},
   "source": [
    "As we can see from histogram price and odometer values are \"spreaded\" several orders of magnitude. We take log of those columns to deal with that. "
   ]
  },
  {
   "cell_type": "code",
   "execution_count": 75,
   "metadata": {},
   "outputs": [],
   "source": [
    "df_cars_nonulls['log_price'] = np.log(df_cars_nonulls['price'])\n",
    "df_cars_nonulls['log_odometer'] = np.log(df_cars_nonulls['odometer']+10)"
   ]
  },
  {
   "cell_type": "code",
   "execution_count": 76,
   "metadata": {},
   "outputs": [
    {
     "data": {
      "image/png": "[encoded data removed]",
      "text/plain": [
       "<Figure size 432x288 with 1 Axes>"
      ]
     },
     "metadata": {
      "needs_background": "light"
     },
     "output_type": "display_data"
    },
    {
     "data": {
      "text/plain": [
       "<matplotlib.axes._subplots.AxesSubplot at 0x21301e50208>"
      ]
     },
     "execution_count": 76,
     "metadata": {},
     "output_type": "execute_result"
    },
    {
     "data": {
      "image/png": "[encoded data removed]",
      "text/plain": [
       "<Figure size 432x288 with 1 Axes>"
      ]
     },
     "metadata": {
      "needs_background": "light"
     },
     "output_type": "display_data"
    }
   ],
   "source": [
    "df_cars_nonulls['log_price'].hist()\n",
    "plt.show()\n",
    "df_cars_nonulls['log_odometer'].hist()"
   ]
  },
  {
   "cell_type": "code",
   "execution_count": 77,
   "metadata": {},
   "outputs": [
    {
     "data": {
      "text/plain": [
       "11701"
      ]
     },
     "execution_count": 77,
     "metadata": {},
     "output_type": "execute_result"
    }
   ],
   "source": [
    "df_cars_nonulls['make_model'].nunique()"
   ]
  },
  {
   "cell_type": "markdown",
   "metadata": {},
   "source": [
    "As 'make_model' contains more than 11k uniques values ( too many for hot encoding). To reduce number of unique models, drop models which occur less than 10 times in the dataset:"
   ]
  },
  {
   "cell_type": "code",
   "execution_count": 113,
   "metadata": {},
   "outputs": [
    {
     "data": {
      "text/plain": [
       "1384"
      ]
     },
     "execution_count": 113,
     "metadata": {},
     "output_type": "execute_result"
    }
   ],
   "source": [
    "df_count = pd.DataFrame( {'count': df_cars_nonulls.groupby('make_model').size()} ).reset_index()\n",
    "df_count.sort_values(by='make_model', ascending =True);\n",
    "pass_model_lst=list(df_count[df_count['count']>10]['make_model'].unique())\n",
    "pass_model_lst=set(pass_model_lst)\n",
    "df_makemodel = df_cars_nonulls[df_cars_nonulls['make_model'].isin(pass_model_lst)]\n",
    "df_makemodel.drop(['manufacturer','make'],axis=1, inplace=True)\n",
    "df_makemodel['make_model'].nunique()"
   ]
  },
  {
   "cell_type": "markdown",
   "metadata": {},
   "source": [
    "Now we have ~1300 unique models, so we can hot encode the dataset."
   ]
  },
  {
   "cell_type": "code",
   "execution_count": 115,
   "metadata": {},
   "outputs": [],
   "source": [
    "df_makemodel_dummy = pd.get_dummies(df_makemodel,drop_first=True)"
   ]
  },
  {
   "cell_type": "code",
   "execution_count": 237,
   "metadata": {},
   "outputs": [],
   "source": [
    "# To accelerate modeling we select smaller sample from dataset\n",
    "# 10% of dataset size\n",
    "df_sample=df_makemodel_dummy.sample(frac=0.10)\n",
    "\n",
    "X=df_sample.drop(['price','log_price','odometer'], axis=1)\n",
    "Y=df_sample['log_price']\n",
    "\n",
    "# Spliting data in train test set, with 20% test size\n",
    "X_train, X_test, y_train, y_test = train_test_split(X,Y, test_size=0.2)"
   ]
  },
  {
   "cell_type": "markdown",
   "metadata": {},
   "source": [
    "## Modeling\n",
    "\n",
    "In this project we are trying to predict a price of used vehicles. Because price (target variable) is continuous  variable, we should use regression model. We start with DummyRegressor model to see how just random guess ca predict outcome and to establish based line of the accuracy  \n"
   ]
  },
  {
   "cell_type": "code",
   "execution_count": 236,
   "metadata": {},
   "outputs": [
    {
     "name": "stdout",
     "output_type": "stream",
     "text": [
      "Dummy train score: 0.0 \n",
      "Dummy test score: -0.002063583696496396\n"
     ]
    }
   ],
   "source": [
    "dumreg = DummyRegressor()\n",
    "dumreg.fit(X_train, y_train)\n",
    "print('Dummy train score:',dumreg.score(X_train, y_train),'\\nDummy test score:', dumreg.score(X_test, y_test))\n"
   ]
  },
  {
   "cell_type": "markdown",
   "metadata": {},
   "source": [
    "Dummy model gives 0 train and test score, which indicates that target variable  can not be predicted just by random guess.\n",
    "\n",
    "Next we test several other regression model, and compare their performance (run time and accuracy). Selected models: Ridge, ElasticNet, Support Vector Machine, Random Forest, Gradient boost and XGBoost."
   ]
  },
  {
   "cell_type": "code",
   "execution_count": 243,
   "metadata": {},
   "outputs": [
    {
     "name": "stdout",
     "output_type": "stream",
     "text": [
      "[15:43:22] WARNING: C:/Jenkins/workspace/xgboost-win64_release_0.90/src/objective/regression_obj.cu:152: reg:linear is now deprecated in favor of reg:squarederror.\n"
     ]
    },
    {
     "data": {
      "text/html": [
       "<div>\n",
       "<style scoped>\n",
       "    .dataframe tbody tr th:only-of-type {\n",
       "        vertical-align: middle;\n",
       "    }\n",
       "\n",
       "    .dataframe tbody tr th {\n",
       "        vertical-align: top;\n",
       "    }\n",
       "\n",
       "    .dataframe thead th {\n",
       "        text-align: right;\n",
       "    }\n",
       "</style>\n",
       "<table border=\"1\" class=\"dataframe\">\n",
       "  <thead>\n",
       "    <tr style=\"text-align: right;\">\n",
       "      <th></th>\n",
       "      <th>RegModel</th>\n",
       "      <th>R-score</th>\n",
       "      <th>Run Time</th>\n",
       "    </tr>\n",
       "  </thead>\n",
       "  <tbody>\n",
       "    <tr>\n",
       "      <th>0</th>\n",
       "      <td>Ridge</td>\n",
       "      <td>0.313376</td>\n",
       "      <td>0.414888</td>\n",
       "    </tr>\n",
       "    <tr>\n",
       "      <th>1</th>\n",
       "      <td>ElasticNet</td>\n",
       "      <td>0.284840</td>\n",
       "      <td>13.212742</td>\n",
       "    </tr>\n",
       "    <tr>\n",
       "      <th>2</th>\n",
       "      <td>SVR</td>\n",
       "      <td>0.189927</td>\n",
       "      <td>11.696757</td>\n",
       "    </tr>\n",
       "    <tr>\n",
       "      <th>3</th>\n",
       "      <td>Random Forest</td>\n",
       "      <td>0.815731</td>\n",
       "      <td>9.278469</td>\n",
       "    </tr>\n",
       "    <tr>\n",
       "      <th>4</th>\n",
       "      <td>GradientBoost</td>\n",
       "      <td>0.798735</td>\n",
       "      <td>89.054654</td>\n",
       "    </tr>\n",
       "    <tr>\n",
       "      <th>5</th>\n",
       "      <td>XGBoost</td>\n",
       "      <td>0.806445</td>\n",
       "      <td>49.794594</td>\n",
       "    </tr>\n",
       "  </tbody>\n",
       "</table>\n",
       "</div>"
      ],
      "text/plain": [
       "        RegModel   R-score   Run Time\n",
       "0          Ridge  0.313376   0.414888\n",
       "1     ElasticNet  0.284840  13.212742\n",
       "2            SVR  0.189927  11.696757\n",
       "3  Random Forest  0.815731   9.278469\n",
       "4  GradientBoost  0.798735  89.054654\n",
       "5        XGBoost  0.806445  49.794594"
      ]
     },
     "execution_count": 243,
     "metadata": {},
     "output_type": "execute_result"
    }
   ],
   "source": [
    "df_results=pd.DataFrame(columns = ['RegModel', 'R-score', 'Run Time'])\n",
    "\n",
    "### Ridge\n",
    "start_time= time.time()\n",
    "ridgeregr = Ridge(alpha=20) \n",
    "ridgeregr.fit(X_train, y_train)\n",
    "run_time = time.time() -start_time\n",
    "df_results = df_results.append({'RegModel':'Ridge',\n",
    "                                'R-score':ridgeregr.score(X_test, y_test),\n",
    "                                'Run Time':run_time},ignore_index=True)\n",
    "##############################################################################\n",
    "\n",
    "### ElasticNet\n",
    "start_time= time.time()\n",
    "elasticregr = ElasticNet(alpha=0.002, l1_ratio=2) \n",
    "elasticregr.fit(X_train, y_train)\n",
    "run_time = time.time() -start_time\n",
    "df_results = df_results.append({'RegModel':'ElasticNet',\n",
    "                                'R-score':elasticregr.score(X_test, y_test),\n",
    "                                'Run Time':run_time},ignore_index=True)\n",
    "##############################################################################\n",
    "\n",
    "### Support Vector Regressor \n",
    "start_time= time.time()\n",
    "svr_rbf = SVR(kernel='rbf', epsilon = 1, C=1)\n",
    "svr_rbf.fit(X_train, y_train)\n",
    "run_time = time.time() -start_time\n",
    "df_results = df_results.append({'RegModel':'SVR',\n",
    "                                'R-score':svr_rbf.score(X_test, y_test),\n",
    "                                'Run Time':run_time},ignore_index=True)\n",
    "##############################################################################\n",
    "\n",
    "\n",
    "### Random Forest\n",
    "start_time= time.time()\n",
    "rfr = RandomForestRegressor(max_depth=15, n_estimators=150, n_jobs=3)\n",
    "rfr.fit(X_train, y_train)\n",
    "run_time = time.time() -start_time\n",
    "df_results = df_results.append({'RegModel':'Random Forest',\n",
    "                                'R-score':rfr.score(X_test, y_test),\n",
    "                                'Run Time':run_time},ignore_index=True)\n",
    "##############################################################################\n",
    "\n",
    "\n",
    "### GradientBoost\n",
    "start_time= time.time()\n",
    "grbst = GradientBoostingRegressor(learning_rate=0.1, \n",
    "                                  max_depth=15, \n",
    "                                  n_estimators=150)\n",
    "grbst.fit(X_train, y_train)\n",
    "run_time = time.time() -start_time\n",
    "df_results = df_results.append({'RegModel':'GradientBoost',\n",
    "                                'R-score':grbst.score(X_test, y_test),\n",
    "                                'Run Time':run_time},ignore_index=True)\n",
    "\n",
    "##############################################################################\n",
    "\n",
    "### XGBoost\n",
    "start_time= time.time()\n",
    "xgb=XGBRegressor(learning_rate=0.1, max_depth=15, n_estimators=150, \n",
    "                nthread=3)\n",
    "xgb.fit(X_train, y_train)\n",
    "run_time = time.time() -start_time\n",
    "df_results = df_results.append({'RegModel':'XGBoost',\n",
    "                                'R-score':xgb.score(X_test, y_test),\n",
    "                                'Run Time':run_time},ignore_index=True)\n",
    "\n",
    "\n",
    "##############################################################################\n",
    " \n",
    "df_results"
   ]
  },
  {
   "cell_type": "code",
   "execution_count": 248,
   "metadata": {},
   "outputs": [
    {
     "data": {
      "image/png": "[encoded data removed]",
      "text/plain": [
       "<Figure size 1008x360 with 2 Axes>"
      ]
     },
     "metadata": {},
     "output_type": "display_data"
    }
   ],
   "source": [
    "clr_lst = ['b','g','r','c','m','y']\n",
    "fig = plt.figure(figsize= (14,5))\n",
    "plt.subplot(1,2,1)\n",
    "plt.title ('Model score')\n",
    "plt.bar(df_results['RegModel'],df_results['R-score'],color =clr_lst)\n",
    "plt.xticks(rotation=45)\n",
    "\n",
    "plt.subplot(1,2,2)\n",
    "plt.title ('Run time (s)')\n",
    "plt.bar(df_results['RegModel'],df_results['Run Time'], color =clr_lst)\n",
    "plt.xticks(rotation=45);"
   ]
  },
  {
   "cell_type": "markdown",
   "metadata": {},
   "source": [
    "Random Forest, GradientBoost  and XGBoost showed high score compared to Ridge, ElasticNet and Support Vector Machine.  These models have high score because they are based on random forest, so they can more accurately model non-linearity in data. On the other hand liner models have significantly lower score. Besides accuracy of the model training time is other important parameter, which plays crucial role in model selection. Ridge model has very low training time, but it accuracy is not good enough. \n",
    "\n",
    "Random forest has lower training time among non-linear models. GradientBosot is the slower of three. Despite XGBoost slower than RandomForest (with almost equal score), we is going use it for fine tuning, because it has better tunability.  \n",
    "\n"
   ]
  },
  {
   "cell_type": "markdown",
   "metadata": {},
   "source": [
    "## Fine tuning of XGBoost model\n",
    "\n",
    "\n",
    "For fine tuning XGBoost model we will run GridSearch  ranging the following parameter: learning rate, height of trees (max_depth), number of trees in the forest  (n_estimators) and regularization (reg_lambda) to reduce overfitting.\n",
    "\n",
    "\n",
    "\n",
    "\n"
   ]
  },
  {
   "cell_type": "code",
   "execution_count": 151,
   "metadata": {},
   "outputs": [],
   "source": [
    "xgb=XGBRegressor(learning_rate=0.1, max_depth=10, n_estimators=100, \n",
    "                nthread=3,reg_lambda=2,random_state=44)"
   ]
  },
  {
   "cell_type": "code",
   "execution_count": 228,
   "metadata": {},
   "outputs": [
    {
     "name": "stdout",
     "output_type": "stream",
     "text": [
      "[09:54:51] WARNING: C:/Jenkins/workspace/xgboost-win64_release_0.90/src/objective/regression_obj.cu:152: reg:linear is now deprecated in favor of reg:squarederror.\n",
      "Best parameters: {'learning_rate': 0.1, 'max_depth': 15, 'n_estimators': 150, 'reg_lambda': 10}\n",
      "Best score: 0.7653819339269611\n",
      "Wall time: 10min 41s\n"
     ]
    }
   ],
   "source": [
    "%%time\n",
    "params = {'learning_rate':[0.05,0.1,0.3],\n",
    "          'max_depth':[15], \n",
    "          'n_estimators':[150],\n",
    "         'reg_lambda':[10]}\n",
    "gridXG = GridSearchCV(xgb, param_grid=params, cv=3, return_train_score=True, n_jobs=3)\n",
    "gridXG.fit(X, Y)\n",
    "print('Best parameters:',gridXG.best_params_)\n",
    "print('Best score:',gridXG.best_score_)"
   ]
  },
  {
   "cell_type": "code",
   "execution_count": 256,
   "metadata": {},
   "outputs": [
    {
     "data": {
      "image/png": "[encoded data removed]",
      "text/plain": [
       "<Figure size 1008x360 with 2 Axes>"
      ]
     },
     "metadata": {},
     "output_type": "display_data"
    }
   ],
   "source": [
    "cv_r=pd.DataFrame(gridXG.cv_results_)\n",
    "\n",
    "fig = plt.figure(figsize= (14,5))\n",
    "plt.subplot(1,2,1)\n",
    "\n",
    "plt.plot(cv_r['param_learning_rate'], cv_r['mean_train_score'], 'o-', label='Train')\n",
    "plt.plot(cv_r['param_learning_rate'], cv_r['mean_test_score'], 'o-', label='Test')\n",
    "plt.legend()\n",
    "plt.ylabel('Score')\n",
    "plt.xlabel('Learning Rate')\n",
    "plt.subplot(1,2,2)\n",
    "plt.plot(cv_r['param_learning_rate'], cv_r['mean_train_score']-cv_r['mean_test_score'], 'o-')\n",
    "plt.title('Difference between train and test score')\n",
    "plt.xlabel('Learning Rate')\n",
    "plt.show();"
   ]
  },
  {
   "cell_type": "markdown",
   "metadata": {},
   "source": [
    "Learning rate of 0.05 gives better test score and minimal difference between train and test score."
   ]
  },
  {
   "cell_type": "code",
   "execution_count": null,
   "metadata": {},
   "outputs": [],
   "source": [
    "%%time\n",
    "params = {'learning_rate':[0.05],\n",
    "          'max_depth':[15], \n",
    "          'n_estimators':[150],\n",
    "         'reg_lambda':[4,6,8,10,12]}\n",
    "gridXGl = GridSearchCV(xgb, param_grid=params, cv=3, return_train_score=True, n_jobs=3)\n",
    "gridXGl.fit(X, Y)"
   ]
  },
  {
   "cell_type": "code",
   "execution_count": 263,
   "metadata": {},
   "outputs": [
    {
     "data": {
      "image/png": "[encoded data removed]",
      "text/plain": [
       "<Figure size 1008x360 with 2 Axes>"
      ]
     },
     "metadata": {},
     "output_type": "display_data"
    }
   ],
   "source": [
    "cv_rl=pd.DataFrame(gridXGl.cv_results_)\n",
    "\n",
    "fig = plt.figure(figsize= (14,5))\n",
    "plt.subplot(1,2,1)\n",
    "plt.plot(cv_rl['param_reg_lambda'], cv_rl['mean_train_score'], 'o-', label='Train')\n",
    "#plt.plot(cv_rl['param_reg_lambda'], cv_rl['mean_test_score'], 'o-', label='Test')\n",
    "plt.title('Train score')\n",
    "plt.xlabel(r'$\\lambda$')\n",
    "plt.ylabel('Score')\n",
    "plt.subplot(1,2,2)\n",
    "plt.plot(cv_rl['param_reg_lambda'], cv_rl['mean_test_score'], 'o-')\n",
    "plt.xlabel(r'$\\lambda$')\n",
    "plt.title('Test score')\n",
    "plt.ylabel('Score')\n",
    "plt.show();"
   ]
  },
  {
   "cell_type": "code",
   "execution_count": 269,
   "metadata": {},
   "outputs": [
    {
     "name": "stdout",
     "output_type": "stream",
     "text": [
      "[16:44:46] WARNING: C:/Jenkins/workspace/xgboost-win64_release_0.90/src/objective/regression_obj.cu:152: reg:linear is now deprecated in favor of reg:squarederror.\n",
      "Wall time: 14min 34s\n"
     ]
    },
    {
     "data": {
      "text/plain": [
       "GridSearchCV(cv=3, error_score='raise-deprecating',\n",
       "             estimator=XGBRegressor(base_score=0.5, booster='gbtree',\n",
       "                                    colsample_bylevel=1, colsample_bynode=1,\n",
       "                                    colsample_bytree=1, gamma=0,\n",
       "                                    importance_type='gain', learning_rate=0.1,\n",
       "                                    max_delta_step=0, max_depth=15,\n",
       "                                    min_child_weight=1, missing=None,\n",
       "                                    n_estimators=100, n_jobs=1, nthread=3,\n",
       "                                    objective='reg:linear', random_state=0,\n",
       "                                    reg_alpha=0, reg_lambda=1,\n",
       "                                    scale_pos_weight=1, seed=None, silent=None,\n",
       "                                    subsample=1, verbosity=1),\n",
       "             iid='warn', n_jobs=3,\n",
       "             param_grid={'learning_rate': [0.05],\n",
       "                         'max_depth': [8, 10, 15, 20, 25],\n",
       "                         'n_estimators': [150], 'reg_lambda': [10]},\n",
       "             pre_dispatch='2*n_jobs', refit=True, return_train_score=True,\n",
       "             scoring=None, verbose=0)"
      ]
     },
     "execution_count": 269,
     "metadata": {},
     "output_type": "execute_result"
    }
   ],
   "source": [
    "%%time\n",
    "params = {'learning_rate':[0.05],\n",
    "          'max_depth':[8,10,15,20,25], \n",
    "          'n_estimators':[150],\n",
    "         'reg_lambda':[10]}\n",
    "gridXGm = GridSearchCV(xgb, param_grid=params, cv=3, return_train_score=True, n_jobs=3)\n",
    "gridXGm.fit(X, Y);"
   ]
  },
  {
   "cell_type": "code",
   "execution_count": 270,
   "metadata": {},
   "outputs": [
    {
     "data": {
      "image/png": "[encoded data removed]",
      "text/plain": [
       "<Figure size 1008x360 with 2 Axes>"
      ]
     },
     "metadata": {},
     "output_type": "display_data"
    }
   ],
   "source": [
    "cv_rm=pd.DataFrame(gridXGm.cv_results_)\n",
    "fig = plt.figure(figsize= (14,5))\n",
    "plt.subplot(1,2,1)\n",
    "\n",
    "plt.plot(cv_rm['param_max_depth'], cv_rm['mean_train_score'], 'o-', label='Train')\n",
    "plt.title('Train score')\n",
    "plt.xlabel('Max depth')\n",
    "plt.ylabel('Score')\n",
    "\n",
    "plt.subplot(1,2,2)\n",
    "plt.plot(cv_rm['param_max_depth'], cv_rm['mean_test_score'], 'o-')\n",
    "plt.title('Test score')\n",
    "plt.xlabel('Max depth')\n",
    "plt.ylabel('Score')\n",
    "plt.show();"
   ]
  },
  {
   "cell_type": "code",
   "execution_count": 271,
   "metadata": {},
   "outputs": [
    {
     "name": "stdout",
     "output_type": "stream",
     "text": [
      "[17:02:29] WARNING: C:/Jenkins/workspace/xgboost-win64_release_0.90/src/objective/regression_obj.cu:152: reg:linear is now deprecated in favor of reg:squarederror.\n",
      "Wall time: 16min 28s\n"
     ]
    },
    {
     "data": {
      "text/plain": [
       "GridSearchCV(cv=3, error_score='raise-deprecating',\n",
       "             estimator=XGBRegressor(base_score=0.5, booster='gbtree',\n",
       "                                    colsample_bylevel=1, colsample_bynode=1,\n",
       "                                    colsample_bytree=1, gamma=0,\n",
       "                                    importance_type='gain', learning_rate=0.1,\n",
       "                                    max_delta_step=0, max_depth=15,\n",
       "                                    min_child_weight=1, missing=None,\n",
       "                                    n_estimators=100, n_jobs=1, nthread=3,\n",
       "                                    objective='reg:linear', random_state=0,\n",
       "                                    reg_alpha=0, reg_lambda=1,\n",
       "                                    scale_pos_weight=1, seed=None, silent=None,\n",
       "                                    subsample=1, verbosity=1),\n",
       "             iid='warn', n_jobs=3,\n",
       "             param_grid={'learning_rate': [0.05], 'max_depth': [15],\n",
       "                         'n_estimators': [100, 150, 200, 300],\n",
       "                         'reg_lambda': [10]},\n",
       "             pre_dispatch='2*n_jobs', refit=True, return_train_score=True,\n",
       "             scoring=None, verbose=0)"
      ]
     },
     "execution_count": 271,
     "metadata": {},
     "output_type": "execute_result"
    }
   ],
   "source": [
    "%%time\n",
    "params = {'learning_rate':[0.05],\n",
    "          'max_depth':[15], \n",
    "          'n_estimators':[100,150,200,300],\n",
    "         'reg_lambda':[10]}\n",
    "gridXGe = GridSearchCV(xgb, param_grid=params, cv=3, return_train_score=True, n_jobs=3)\n",
    "gridXGe.fit(X, Y);"
   ]
  },
  {
   "cell_type": "code",
   "execution_count": 277,
   "metadata": {},
   "outputs": [
    {
     "data": {
      "image/png": "[encoded data removed]",
      "text/plain": [
       "<Figure size 1008x360 with 2 Axes>"
      ]
     },
     "metadata": {},
     "output_type": "display_data"
    }
   ],
   "source": [
    "cv_re=pd.DataFrame(gridXGe.cv_results_)\n",
    "\n",
    "fig = plt.figure(figsize= (14,5))\n",
    "plt.subplot(1,2,1)\n",
    "plt.title('Tran score')\n",
    "plt.plot(cv_re['param_n_estimators'], cv_re['mean_train_score'], 'o-')\n",
    "plt.ylabel('Score')\n",
    "plt.xlabel('Number of estimators')\n",
    "plt.subplot(1,2,2)\n",
    "plt.title('Test score')\n",
    "plt.plot(cv_re['param_n_estimators'], cv_re['mean_test_score'], 'o-')\n",
    "plt.show();"
   ]
  },
  {
   "cell_type": "code",
   "execution_count": null,
   "metadata": {},
   "outputs": [],
   "source": []
  },
  {
   "cell_type": "code",
   "execution_count": null,
   "metadata": {},
   "outputs": [],
   "source": []
  },
  {
   "cell_type": "code",
   "execution_count": 278,
   "metadata": {},
   "outputs": [],
   "source": [
    "df_features=pd.DataFrame({'columns':X.columns,\n",
    "              'importance score':gridXG.best_estimator_.feature_importances_}).sort_values(by = 'importance score',\n",
    "                                                                                           ascending =False)"
   ]
  },
  {
   "cell_type": "code",
   "execution_count": 313,
   "metadata": {},
   "outputs": [
    {
     "data": {
      "text/html": [
       "<div>\n",
       "<style scoped>\n",
       "    .dataframe tbody tr th:only-of-type {\n",
       "        vertical-align: middle;\n",
       "    }\n",
       "\n",
       "    .dataframe tbody tr th {\n",
       "        vertical-align: top;\n",
       "    }\n",
       "\n",
       "    .dataframe thead th {\n",
       "        text-align: right;\n",
       "    }\n",
       "</style>\n",
       "<table border=\"1\" class=\"dataframe\">\n",
       "  <thead>\n",
       "    <tr style=\"text-align: right;\">\n",
       "      <th></th>\n",
       "      <th>columns</th>\n",
       "      <th>importance score</th>\n",
       "    </tr>\n",
       "  </thead>\n",
       "  <tbody>\n",
       "    <tr>\n",
       "      <th>27</th>\n",
       "      <td>transmission_other</td>\n",
       "      <td>0.094421</td>\n",
       "    </tr>\n",
       "    <tr>\n",
       "      <th>806</th>\n",
       "      <td>make_model_honda_odysseyexl</td>\n",
       "      <td>0.037810</td>\n",
       "    </tr>\n",
       "    <tr>\n",
       "      <th>892</th>\n",
       "      <td>make_model_jeep_compasslatitude</td>\n",
       "      <td>0.036186</td>\n",
       "    </tr>\n",
       "    <tr>\n",
       "      <th>646</th>\n",
       "      <td>make_model_ford_fusionse</td>\n",
       "      <td>0.030153</td>\n",
       "    </tr>\n",
       "    <tr>\n",
       "      <th>1427</th>\n",
       "      <td>make_model_volkswagen_tiguan</td>\n",
       "      <td>0.023673</td>\n",
       "    </tr>\n",
       "    <tr>\n",
       "      <th>1</th>\n",
       "      <td>lat</td>\n",
       "      <td>0.019195</td>\n",
       "    </tr>\n",
       "    <tr>\n",
       "      <th>18</th>\n",
       "      <td>fuel_gas</td>\n",
       "      <td>0.014937</td>\n",
       "    </tr>\n",
       "    <tr>\n",
       "      <th>516</th>\n",
       "      <td>make_model_ford_escape4x4</td>\n",
       "      <td>0.014109</td>\n",
       "    </tr>\n",
       "    <tr>\n",
       "      <th>158</th>\n",
       "      <td>make_model_buick_encore</td>\n",
       "      <td>0.013305</td>\n",
       "    </tr>\n",
       "    <tr>\n",
       "      <th>28</th>\n",
       "      <td>drive_fwd</td>\n",
       "      <td>0.011859</td>\n",
       "    </tr>\n",
       "  </tbody>\n",
       "</table>\n",
       "</div>"
      ],
      "text/plain": [
       "                              columns  importance score\n",
       "27                 transmission_other          0.094421\n",
       "806       make_model_honda_odysseyexl          0.037810\n",
       "892   make_model_jeep_compasslatitude          0.036186\n",
       "646          make_model_ford_fusionse          0.030153\n",
       "1427     make_model_volkswagen_tiguan          0.023673\n",
       "1                                 lat          0.019195\n",
       "18                           fuel_gas          0.014937\n",
       "516         make_model_ford_escape4x4          0.014109\n",
       "158           make_model_buick_encore          0.013305\n",
       "28                          drive_fwd          0.011859"
      ]
     },
     "execution_count": 313,
     "metadata": {},
     "output_type": "execute_result"
    }
   ],
   "source": [
    "df_features.head(10)"
   ]
  },
  {
   "cell_type": "markdown",
   "metadata": {},
   "source": [
    "After tuning hyper parameters of XGBoost model we found a set of hyper parameters which gives the best test score. Because GridSearchCV takes a lot time to run over large parameter space, we ran GridSearch on sample dataset 15% of the size of original dataset. Now we can run XGBoost on the entire dataset with  optimal hyperparameter to find score of the model. "
   ]
  },
  {
   "cell_type": "code",
   "execution_count": 314,
   "metadata": {},
   "outputs": [
    {
     "name": "stdout",
     "output_type": "stream",
     "text": [
      "[15:02:03] WARNING: C:/Jenkins/workspace/xgboost-win64_release_0.90/src/objective/regression_obj.cu:152: reg:linear is now deprecated in favor of reg:squarederror.\n",
      "Train score: 0.9267171586630848\n",
      "Test score: 0.8298034039208273\n",
      "Wall time: 22min 57s\n"
     ]
    }
   ],
   "source": [
    "%%time\n",
    "\n",
    "Xf=df_makemodel_dummy.drop(['price','log_price','odometer'], axis=1)\n",
    "Yf=df_makemodel_dummy['log_price']\n",
    "\n",
    "X_trainf, X_testf, y_trainf, y_testf = train_test_split(Xf,Yf, test_size=0.2)\n",
    "\n",
    "xgbf=XGBRegressor(learning_rate=0.05, max_depth=20, n_estimators=200, \n",
    "                nthread=3,reg_lambda=10,random_state=44)\n",
    "results_xgbf=xgbf.fit(X_trainf, y_trainf)\n",
    "\n",
    "print('Train score:',xgbf.score(X_trainf, y_trainf))\n",
    "print('Test score:',xgbf.score(X_testf, y_testf))"
   ]
  },
  {
   "cell_type": "code",
   "execution_count": 315,
   "metadata": {},
   "outputs": [],
   "source": [
    "y_pred_train = xgbf.predict(X_trainf)\n",
    "y_pred_test = xgbf.predict(X_testf)\n"
   ]
  },
  {
   "cell_type": "code",
   "execution_count": 327,
   "metadata": {},
   "outputs": [
    {
     "name": "stdout",
     "output_type": "stream",
     "text": [
      "Mean absolute error of the prediction is: 1.297289078798168$\n"
     ]
    }
   ],
   "source": [
    "print(\"Mean absolute error of the prediction is: {}$\".format( \n",
    "    (np.exp(mean_absolute_error(y_pred_test,y_testf)))))"
   ]
  },
  {
   "cell_type": "markdown",
   "metadata": {},
   "source": [
    "### Summary \n",
    "\n"
   ]
  },
  {
   "cell_type": "code",
   "execution_count": null,
   "metadata": {},
   "outputs": [],
   "source": []
  }
 ],
 "metadata": {
  "kernelspec": {
   "display_name": "Python 3",
   "language": "python",
   "name": "python3"
  },
  "language_info": {
   "codemirror_mode": {
    "name": "ipython",
    "version": 3
   },
   "file_extension": ".py",
   "mimetype": "text/x-python",
   "name": "python",
   "nbconvert_exporter": "python",
   "pygments_lexer": "ipython3",
   "version": "3.7.3"
  }
 },
 "nbformat": 4,
 "nbformat_minor": 2
}
